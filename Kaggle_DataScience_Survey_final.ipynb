{
 "cells": [
  {
   "cell_type": "markdown",
   "metadata": {
    "dc": {
     "key": "3"
    },
    "deletable": false,
    "editable": false,
    "run_control": {
     "frozen": true
    },
    "tags": [
     "context"
    ]
   },
   "source": [
    "## 1. Welcome to the world of data science\n",
    "<p>Throughout the world of data science, there are many languages and tools that can be used to complete a given task. While you are often able to use whichever tool you prefer, it is often important for analysts to work with similar platforms so that they can share their code with one another. Learning what professionals in the data science industry use while at work can help you gain a better understanding of things that you may be asked to do in the future. </p>\n",
    "<p>In this project, we are going to find out what tools and languages professionals use in their day-to-day work. Our data comes from the <a href=\"https://www.kaggle.com/kaggle/kaggle-survey-2017?utm_medium=partner&utm_source=datacamp.com&utm_campaign=ml+survey+case+study\">Kaggle Data Science Survey</a> which includes responses from over 10,000 people that write code to analyze data in their daily work. </p>"
   ]
  },
  {
   "cell_type": "code",
   "execution_count": 3,
   "metadata": {
    "dc": {
     "key": "3"
    },
    "tags": [
     "sample_code"
    ]
   },
   "outputs": [
    {
     "data": {
      "text/html": [
       "<table>\n",
       "<thead><tr><th scope=col>Respondent</th><th scope=col>WorkToolsSelect</th><th scope=col>LanguageRecommendationSelect</th><th scope=col>EmployerIndustry</th><th scope=col>WorkAlgorithmsSelect</th></tr></thead>\n",
       "<tbody>\n",
       "\t<tr><td>1                                                                                                                                                                                                                  </td><td>Amazon Web services,Oracle Data Mining/ Oracle R Enterprise,Perl                                                                                                                                                   </td><td>F#                                                                                                                                                                                                                 </td><td>Internet-based                                                                                                                                                                                                     </td><td>Neural Networks,Random Forests,RNNs                                                                                                                                                                                </td></tr>\n",
       "\t<tr><td>2                                                                                                                                                                                                                  </td><td>Amazon Machine Learning,Amazon Web services,Cloudera,Hadoop/Hive/Pig,Impala,Java,Mathematica,MATLAB/Octave,Microsoft Excel Data Mining,Microsoft SQL Server Data Mining,NoSQL,Python,R,SAS Base,SAS JMP,SQL,Tableau</td><td>Python                                                                                                                                                                                                             </td><td>Mix of fields                                                                                                                                                                                                      </td><td>Bayesian Techniques,Decision Trees,Random Forests,Regression/Logistic Regression                                                                                                                                   </td></tr>\n",
       "\t<tr><td>3                                                                                                                                                                                                                  </td><td>C/C++,Jupyter notebooks,MATLAB/Octave,Python,R,TensorFlow                                                                                                                                                          </td><td>Python                                                                                                                                                                                                             </td><td>Technology                                                                                                                                                                                                         </td><td>Bayesian Techniques,CNNs,Ensemble Methods,Neural Networks,Regression/Logistic Regression,SVMs                                                                                                                      </td></tr>\n",
       "\t<tr><td>4                                                                                                                                                                                                                  </td><td>Jupyter notebooks,Python,SQL,TensorFlow                                                                                                                                                                            </td><td>Python                                                                                                                                                                                                             </td><td>Academic                                                                                                                                                                                                           </td><td>Bayesian Techniques,CNNs,Decision Trees,Gradient Boosted Machines,Neural Networks,Random Forests,Regression/Logistic Regression                                                                                    </td></tr>\n",
       "\t<tr><td>5                                                                                                                                                                                                                  </td><td>C/C++,Cloudera,Hadoop/Hive/Pig,Java,NoSQL,R,Unix shell / awk                                                                                                                                                       </td><td>R                                                                                                                                                                                                                  </td><td>Government                                                                                                                                                                                                         </td><td>NA                                                                                                                                                                                                                 </td></tr>\n",
       "\t<tr><td>6                                                                                                                                                                                                                  </td><td>SQL                                                                                                                                                                                                                </td><td>Python                                                                                                                                                                                                             </td><td>Non-profit                                                                                                                                                                                                         </td><td>NA                                                                                                                                                                                                                 </td></tr>\n",
       "</tbody>\n",
       "</table>\n"
      ],
      "text/latex": [
       "\\begin{tabular}{r|lllll}\n",
       " Respondent & WorkToolsSelect & LanguageRecommendationSelect & EmployerIndustry & WorkAlgorithmsSelect\\\\\n",
       "\\hline\n",
       "\t 1                                                                                                                                                                                                                   & Amazon Web services,Oracle Data Mining/ Oracle R Enterprise,Perl                                                                                                                                                    & F\\#                                                                                                                                                                                                                & Internet-based                                                                                                                                                                                                      & Neural Networks,Random Forests,RNNs                                                                                                                                                                                \\\\\n",
       "\t 2                                                                                                                                                                                                                   & Amazon Machine Learning,Amazon Web services,Cloudera,Hadoop/Hive/Pig,Impala,Java,Mathematica,MATLAB/Octave,Microsoft Excel Data Mining,Microsoft SQL Server Data Mining,NoSQL,Python,R,SAS Base,SAS JMP,SQL,Tableau & Python                                                                                                                                                                                                              & Mix of fields                                                                                                                                                                                                       & Bayesian Techniques,Decision Trees,Random Forests,Regression/Logistic Regression                                                                                                                                   \\\\\n",
       "\t 3                                                                                                                                                                                                                   & C/C++,Jupyter notebooks,MATLAB/Octave,Python,R,TensorFlow                                                                                                                                                           & Python                                                                                                                                                                                                              & Technology                                                                                                                                                                                                          & Bayesian Techniques,CNNs,Ensemble Methods,Neural Networks,Regression/Logistic Regression,SVMs                                                                                                                      \\\\\n",
       "\t 4                                                                                                                                                                                                                   & Jupyter notebooks,Python,SQL,TensorFlow                                                                                                                                                                             & Python                                                                                                                                                                                                              & Academic                                                                                                                                                                                                            & Bayesian Techniques,CNNs,Decision Trees,Gradient Boosted Machines,Neural Networks,Random Forests,Regression/Logistic Regression                                                                                    \\\\\n",
       "\t 5                                                                                                                                                                                                                   & C/C++,Cloudera,Hadoop/Hive/Pig,Java,NoSQL,R,Unix shell / awk                                                                                                                                                        & R                                                                                                                                                                                                                   & Government                                                                                                                                                                                                          & NA                                                                                                                                                                                                                 \\\\\n",
       "\t 6                                                                                                                                                                                                                   & SQL                                                                                                                                                                                                                 & Python                                                                                                                                                                                                              & Non-profit                                                                                                                                                                                                          & NA                                                                                                                                                                                                                 \\\\\n",
       "\\end{tabular}\n"
      ],
      "text/markdown": [
       "\n",
       "| Respondent | WorkToolsSelect | LanguageRecommendationSelect | EmployerIndustry | WorkAlgorithmsSelect |\n",
       "|---|---|---|---|---|\n",
       "| 1                                                                                                                                                                                                                   | Amazon Web services,Oracle Data Mining/ Oracle R Enterprise,Perl                                                                                                                                                    | F#                                                                                                                                                                                                                  | Internet-based                                                                                                                                                                                                      | Neural Networks,Random Forests,RNNs                                                                                                                                                                                 |\n",
       "| 2                                                                                                                                                                                                                   | Amazon Machine Learning,Amazon Web services,Cloudera,Hadoop/Hive/Pig,Impala,Java,Mathematica,MATLAB/Octave,Microsoft Excel Data Mining,Microsoft SQL Server Data Mining,NoSQL,Python,R,SAS Base,SAS JMP,SQL,Tableau | Python                                                                                                                                                                                                              | Mix of fields                                                                                                                                                                                                       | Bayesian Techniques,Decision Trees,Random Forests,Regression/Logistic Regression                                                                                                                                    |\n",
       "| 3                                                                                                                                                                                                                   | C/C++,Jupyter notebooks,MATLAB/Octave,Python,R,TensorFlow                                                                                                                                                           | Python                                                                                                                                                                                                              | Technology                                                                                                                                                                                                          | Bayesian Techniques,CNNs,Ensemble Methods,Neural Networks,Regression/Logistic Regression,SVMs                                                                                                                       |\n",
       "| 4                                                                                                                                                                                                                   | Jupyter notebooks,Python,SQL,TensorFlow                                                                                                                                                                             | Python                                                                                                                                                                                                              | Academic                                                                                                                                                                                                            | Bayesian Techniques,CNNs,Decision Trees,Gradient Boosted Machines,Neural Networks,Random Forests,Regression/Logistic Regression                                                                                     |\n",
       "| 5                                                                                                                                                                                                                   | C/C++,Cloudera,Hadoop/Hive/Pig,Java,NoSQL,R,Unix shell / awk                                                                                                                                                        | R                                                                                                                                                                                                                   | Government                                                                                                                                                                                                          | NA                                                                                                                                                                                                                  |\n",
       "| 6                                                                                                                                                                                                                   | SQL                                                                                                                                                                                                                 | Python                                                                                                                                                                                                              | Non-profit                                                                                                                                                                                                          | NA                                                                                                                                                                                                                  |\n",
       "\n"
      ],
      "text/plain": [
       "  Respondent\n",
       "1 1         \n",
       "2 2         \n",
       "3 3         \n",
       "4 4         \n",
       "5 5         \n",
       "6 6         \n",
       "  WorkToolsSelect                                                                                                                                                                                                    \n",
       "1 Amazon Web services,Oracle Data Mining/ Oracle R Enterprise,Perl                                                                                                                                                   \n",
       "2 Amazon Machine Learning,Amazon Web services,Cloudera,Hadoop/Hive/Pig,Impala,Java,Mathematica,MATLAB/Octave,Microsoft Excel Data Mining,Microsoft SQL Server Data Mining,NoSQL,Python,R,SAS Base,SAS JMP,SQL,Tableau\n",
       "3 C/C++,Jupyter notebooks,MATLAB/Octave,Python,R,TensorFlow                                                                                                                                                          \n",
       "4 Jupyter notebooks,Python,SQL,TensorFlow                                                                                                                                                                            \n",
       "5 C/C++,Cloudera,Hadoop/Hive/Pig,Java,NoSQL,R,Unix shell / awk                                                                                                                                                       \n",
       "6 SQL                                                                                                                                                                                                                \n",
       "  LanguageRecommendationSelect EmployerIndustry\n",
       "1 F#                           Internet-based  \n",
       "2 Python                       Mix of fields   \n",
       "3 Python                       Technology      \n",
       "4 Python                       Academic        \n",
       "5 R                            Government      \n",
       "6 Python                       Non-profit      \n",
       "  WorkAlgorithmsSelect                                                                                                           \n",
       "1 Neural Networks,Random Forests,RNNs                                                                                            \n",
       "2 Bayesian Techniques,Decision Trees,Random Forests,Regression/Logistic Regression                                               \n",
       "3 Bayesian Techniques,CNNs,Ensemble Methods,Neural Networks,Regression/Logistic Regression,SVMs                                  \n",
       "4 Bayesian Techniques,CNNs,Decision Trees,Gradient Boosted Machines,Neural Networks,Random Forests,Regression/Logistic Regression\n",
       "5 NA                                                                                                                             \n",
       "6 NA                                                                                                                             "
      ]
     },
     "metadata": {},
     "output_type": "display_data"
    }
   ],
   "source": [
    "# Loading necessary packages\n",
    "library(tidyverse)\n",
    "\n",
    "# Loading the data\n",
    "#responses <- read_csv(\"datasets/kagglesurvey.csv\")\n",
    "responses <- dget(\"responses.txt\")\n",
    "# Printing the first 10 rows\n",
    "head(responses)"
   ]
  },
  {
   "cell_type": "markdown",
   "metadata": {
    "dc": {
     "key": "10"
    },
    "deletable": false,
    "editable": false,
    "run_control": {
     "frozen": true
    },
    "tags": [
     "context"
    ]
   },
   "source": [
    "## 2. Using multiple tools\n",
    "<p>Now that we've loaded in the survey results, we want to focus on the tools and languages that the survey respondents use at work. </p>"
   ]
  },
  {
   "cell_type": "code",
   "execution_count": 38,
   "metadata": {
    "dc": {
     "key": "10"
    },
    "tags": [
     "sample_code"
    ]
   },
   "outputs": [
    {
     "name": "stdout",
     "output_type": "stream",
     "text": [
      "[1] \"Amazon Web services,Oracle Data Mining/ Oracle R Enterprise,Perl\"\n"
     ]
    },
    {
     "data": {
      "text/html": [
       "<table>\n",
       "<thead><tr><th scope=col>Respondent</th><th scope=col>WorkToolsSelect</th><th scope=col>LanguageRecommendationSelect</th><th scope=col>EmployerIndustry</th><th scope=col>WorkAlgorithmsSelect</th><th scope=col>work_tools</th></tr></thead>\n",
       "<tbody>\n",
       "\t<tr><td>1                                                                                                                                                                                                                  </td><td>Amazon Web services,Oracle Data Mining/ Oracle R Enterprise,Perl                                                                                                                                                   </td><td>F#                                                                                                                                                                                                                 </td><td>Internet-based                                                                                                                                                                                                     </td><td>Neural Networks,Random Forests,RNNs                                                                                                                                                                                </td><td>Amazon Web services                                                                                                                                                                                                </td></tr>\n",
       "\t<tr><td>1                                                                                                                                                                                                                  </td><td>Amazon Web services,Oracle Data Mining/ Oracle R Enterprise,Perl                                                                                                                                                   </td><td>F#                                                                                                                                                                                                                 </td><td>Internet-based                                                                                                                                                                                                     </td><td>Neural Networks,Random Forests,RNNs                                                                                                                                                                                </td><td>Oracle Data Mining/ Oracle R Enterprise                                                                                                                                                                            </td></tr>\n",
       "\t<tr><td>1                                                                                                                                                                                                                  </td><td>Amazon Web services,Oracle Data Mining/ Oracle R Enterprise,Perl                                                                                                                                                   </td><td>F#                                                                                                                                                                                                                 </td><td>Internet-based                                                                                                                                                                                                     </td><td>Neural Networks,Random Forests,RNNs                                                                                                                                                                                </td><td>Perl                                                                                                                                                                                                               </td></tr>\n",
       "\t<tr><td>2                                                                                                                                                                                                                  </td><td>Amazon Machine Learning,Amazon Web services,Cloudera,Hadoop/Hive/Pig,Impala,Java,Mathematica,MATLAB/Octave,Microsoft Excel Data Mining,Microsoft SQL Server Data Mining,NoSQL,Python,R,SAS Base,SAS JMP,SQL,Tableau</td><td>Python                                                                                                                                                                                                             </td><td>Mix of fields                                                                                                                                                                                                      </td><td>Bayesian Techniques,Decision Trees,Random Forests,Regression/Logistic Regression                                                                                                                                   </td><td>Amazon Machine Learning                                                                                                                                                                                            </td></tr>\n",
       "\t<tr><td>2                                                                                                                                                                                                                  </td><td>Amazon Machine Learning,Amazon Web services,Cloudera,Hadoop/Hive/Pig,Impala,Java,Mathematica,MATLAB/Octave,Microsoft Excel Data Mining,Microsoft SQL Server Data Mining,NoSQL,Python,R,SAS Base,SAS JMP,SQL,Tableau</td><td>Python                                                                                                                                                                                                             </td><td>Mix of fields                                                                                                                                                                                                      </td><td>Bayesian Techniques,Decision Trees,Random Forests,Regression/Logistic Regression                                                                                                                                   </td><td>Amazon Web services                                                                                                                                                                                                </td></tr>\n",
       "\t<tr><td>2                                                                                                                                                                                                                  </td><td>Amazon Machine Learning,Amazon Web services,Cloudera,Hadoop/Hive/Pig,Impala,Java,Mathematica,MATLAB/Octave,Microsoft Excel Data Mining,Microsoft SQL Server Data Mining,NoSQL,Python,R,SAS Base,SAS JMP,SQL,Tableau</td><td>Python                                                                                                                                                                                                             </td><td>Mix of fields                                                                                                                                                                                                      </td><td>Bayesian Techniques,Decision Trees,Random Forests,Regression/Logistic Regression                                                                                                                                   </td><td>Cloudera                                                                                                                                                                                                           </td></tr>\n",
       "</tbody>\n",
       "</table>\n"
      ],
      "text/latex": [
       "\\begin{tabular}{r|llllll}\n",
       " Respondent & WorkToolsSelect & LanguageRecommendationSelect & EmployerIndustry & WorkAlgorithmsSelect & work\\_tools\\\\\n",
       "\\hline\n",
       "\t 1                                                                                                                                                                                                                   & Amazon Web services,Oracle Data Mining/ Oracle R Enterprise,Perl                                                                                                                                                    & F\\#                                                                                                                                                                                                                & Internet-based                                                                                                                                                                                                      & Neural Networks,Random Forests,RNNs                                                                                                                                                                                 & Amazon Web services                                                                                                                                                                                                \\\\\n",
       "\t 1                                                                                                                                                                                                                   & Amazon Web services,Oracle Data Mining/ Oracle R Enterprise,Perl                                                                                                                                                    & F\\#                                                                                                                                                                                                                & Internet-based                                                                                                                                                                                                      & Neural Networks,Random Forests,RNNs                                                                                                                                                                                 & Oracle Data Mining/ Oracle R Enterprise                                                                                                                                                                            \\\\\n",
       "\t 1                                                                                                                                                                                                                   & Amazon Web services,Oracle Data Mining/ Oracle R Enterprise,Perl                                                                                                                                                    & F\\#                                                                                                                                                                                                                & Internet-based                                                                                                                                                                                                      & Neural Networks,Random Forests,RNNs                                                                                                                                                                                 & Perl                                                                                                                                                                                                               \\\\\n",
       "\t 2                                                                                                                                                                                                                   & Amazon Machine Learning,Amazon Web services,Cloudera,Hadoop/Hive/Pig,Impala,Java,Mathematica,MATLAB/Octave,Microsoft Excel Data Mining,Microsoft SQL Server Data Mining,NoSQL,Python,R,SAS Base,SAS JMP,SQL,Tableau & Python                                                                                                                                                                                                              & Mix of fields                                                                                                                                                                                                       & Bayesian Techniques,Decision Trees,Random Forests,Regression/Logistic Regression                                                                                                                                    & Amazon Machine Learning                                                                                                                                                                                            \\\\\n",
       "\t 2                                                                                                                                                                                                                   & Amazon Machine Learning,Amazon Web services,Cloudera,Hadoop/Hive/Pig,Impala,Java,Mathematica,MATLAB/Octave,Microsoft Excel Data Mining,Microsoft SQL Server Data Mining,NoSQL,Python,R,SAS Base,SAS JMP,SQL,Tableau & Python                                                                                                                                                                                                              & Mix of fields                                                                                                                                                                                                       & Bayesian Techniques,Decision Trees,Random Forests,Regression/Logistic Regression                                                                                                                                    & Amazon Web services                                                                                                                                                                                                \\\\\n",
       "\t 2                                                                                                                                                                                                                   & Amazon Machine Learning,Amazon Web services,Cloudera,Hadoop/Hive/Pig,Impala,Java,Mathematica,MATLAB/Octave,Microsoft Excel Data Mining,Microsoft SQL Server Data Mining,NoSQL,Python,R,SAS Base,SAS JMP,SQL,Tableau & Python                                                                                                                                                                                                              & Mix of fields                                                                                                                                                                                                       & Bayesian Techniques,Decision Trees,Random Forests,Regression/Logistic Regression                                                                                                                                    & Cloudera                                                                                                                                                                                                           \\\\\n",
       "\\end{tabular}\n"
      ],
      "text/markdown": [
       "\n",
       "Respondent | WorkToolsSelect | LanguageRecommendationSelect | EmployerIndustry | WorkAlgorithmsSelect | work_tools | \n",
       "|---|---|---|---|---|---|\n",
       "| 1                                                                                                                                                                                                                   | Amazon Web services,Oracle Data Mining/ Oracle R Enterprise,Perl                                                                                                                                                    | F#                                                                                                                                                                                                                  | Internet-based                                                                                                                                                                                                      | Neural Networks,Random Forests,RNNs                                                                                                                                                                                 | Amazon Web services                                                                                                                                                                                                 | \n",
       "| 1                                                                                                                                                                                                                   | Amazon Web services,Oracle Data Mining/ Oracle R Enterprise,Perl                                                                                                                                                    | F#                                                                                                                                                                                                                  | Internet-based                                                                                                                                                                                                      | Neural Networks,Random Forests,RNNs                                                                                                                                                                                 | Oracle Data Mining/ Oracle R Enterprise                                                                                                                                                                             | \n",
       "| 1                                                                                                                                                                                                                   | Amazon Web services,Oracle Data Mining/ Oracle R Enterprise,Perl                                                                                                                                                    | F#                                                                                                                                                                                                                  | Internet-based                                                                                                                                                                                                      | Neural Networks,Random Forests,RNNs                                                                                                                                                                                 | Perl                                                                                                                                                                                                                | \n",
       "| 2                                                                                                                                                                                                                   | Amazon Machine Learning,Amazon Web services,Cloudera,Hadoop/Hive/Pig,Impala,Java,Mathematica,MATLAB/Octave,Microsoft Excel Data Mining,Microsoft SQL Server Data Mining,NoSQL,Python,R,SAS Base,SAS JMP,SQL,Tableau | Python                                                                                                                                                                                                              | Mix of fields                                                                                                                                                                                                       | Bayesian Techniques,Decision Trees,Random Forests,Regression/Logistic Regression                                                                                                                                    | Amazon Machine Learning                                                                                                                                                                                             | \n",
       "| 2                                                                                                                                                                                                                   | Amazon Machine Learning,Amazon Web services,Cloudera,Hadoop/Hive/Pig,Impala,Java,Mathematica,MATLAB/Octave,Microsoft Excel Data Mining,Microsoft SQL Server Data Mining,NoSQL,Python,R,SAS Base,SAS JMP,SQL,Tableau | Python                                                                                                                                                                                                              | Mix of fields                                                                                                                                                                                                       | Bayesian Techniques,Decision Trees,Random Forests,Regression/Logistic Regression                                                                                                                                    | Amazon Web services                                                                                                                                                                                                 | \n",
       "| 2                                                                                                                                                                                                                   | Amazon Machine Learning,Amazon Web services,Cloudera,Hadoop/Hive/Pig,Impala,Java,Mathematica,MATLAB/Octave,Microsoft Excel Data Mining,Microsoft SQL Server Data Mining,NoSQL,Python,R,SAS Base,SAS JMP,SQL,Tableau | Python                                                                                                                                                                                                              | Mix of fields                                                                                                                                                                                                       | Bayesian Techniques,Decision Trees,Random Forests,Regression/Logistic Regression                                                                                                                                    | Cloudera                                                                                                                                                                                                            | \n",
       "\n",
       "\n"
      ],
      "text/plain": [
       "  Respondent\n",
       "1 1         \n",
       "2 1         \n",
       "3 1         \n",
       "4 2         \n",
       "5 2         \n",
       "6 2         \n",
       "  WorkToolsSelect                                                                                                                                                                                                    \n",
       "1 Amazon Web services,Oracle Data Mining/ Oracle R Enterprise,Perl                                                                                                                                                   \n",
       "2 Amazon Web services,Oracle Data Mining/ Oracle R Enterprise,Perl                                                                                                                                                   \n",
       "3 Amazon Web services,Oracle Data Mining/ Oracle R Enterprise,Perl                                                                                                                                                   \n",
       "4 Amazon Machine Learning,Amazon Web services,Cloudera,Hadoop/Hive/Pig,Impala,Java,Mathematica,MATLAB/Octave,Microsoft Excel Data Mining,Microsoft SQL Server Data Mining,NoSQL,Python,R,SAS Base,SAS JMP,SQL,Tableau\n",
       "5 Amazon Machine Learning,Amazon Web services,Cloudera,Hadoop/Hive/Pig,Impala,Java,Mathematica,MATLAB/Octave,Microsoft Excel Data Mining,Microsoft SQL Server Data Mining,NoSQL,Python,R,SAS Base,SAS JMP,SQL,Tableau\n",
       "6 Amazon Machine Learning,Amazon Web services,Cloudera,Hadoop/Hive/Pig,Impala,Java,Mathematica,MATLAB/Octave,Microsoft Excel Data Mining,Microsoft SQL Server Data Mining,NoSQL,Python,R,SAS Base,SAS JMP,SQL,Tableau\n",
       "  LanguageRecommendationSelect EmployerIndustry\n",
       "1 F#                           Internet-based  \n",
       "2 F#                           Internet-based  \n",
       "3 F#                           Internet-based  \n",
       "4 Python                       Mix of fields   \n",
       "5 Python                       Mix of fields   \n",
       "6 Python                       Mix of fields   \n",
       "  WorkAlgorithmsSelect                                                            \n",
       "1 Neural Networks,Random Forests,RNNs                                             \n",
       "2 Neural Networks,Random Forests,RNNs                                             \n",
       "3 Neural Networks,Random Forests,RNNs                                             \n",
       "4 Bayesian Techniques,Decision Trees,Random Forests,Regression/Logistic Regression\n",
       "5 Bayesian Techniques,Decision Trees,Random Forests,Regression/Logistic Regression\n",
       "6 Bayesian Techniques,Decision Trees,Random Forests,Regression/Logistic Regression\n",
       "  work_tools                             \n",
       "1 Amazon Web services                    \n",
       "2 Oracle Data Mining/ Oracle R Enterprise\n",
       "3 Perl                                   \n",
       "4 Amazon Machine Learning                \n",
       "5 Amazon Web services                    \n",
       "6 Cloudera                               "
      ]
     },
     "metadata": {},
     "output_type": "display_data"
    }
   ],
   "source": [
    "# Printing the first respondents' tools and languages\n",
    "print(responses$WorkToolsSelect[1])\n",
    "\n",
    "# Creating a new data frame called tools\n",
    "tools <- responses\n",
    "\n",
    "# Adding a new column to tools which splits the WorkToolsSelect column at the commas and unnests the new column\n",
    "tools <- tools %>% mutate(work_tools = strsplit(responses$WorkToolsSelect, \",\")) %>% unnest()\n",
    "\n",
    "# Viewing the first 6 rows of tools\n",
    "head(tools,6)"
   ]
  },
  {
   "cell_type": "markdown",
   "metadata": {
    "dc": {
     "key": "17"
    },
    "deletable": false,
    "editable": false,
    "run_control": {
     "frozen": true
    },
    "tags": [
     "context"
    ]
   },
   "source": [
    "## 3. Counting users of each tool\n",
    "<p>Now that we've split apart all of the tools used by each respondent, we can figure out which tools are the most popular.</p>"
   ]
  },
  {
   "cell_type": "code",
   "execution_count": 40,
   "metadata": {
    "dc": {
     "key": "17"
    },
    "tags": [
     "sample_code"
    ]
   },
   "outputs": [
    {
     "data": {
      "text/html": [
       "<table>\n",
       "<thead><tr><th scope=col>work_tools</th><th scope=col>n</th></tr></thead>\n",
       "<tbody>\n",
       "\t<tr><td>Python                                            </td><td>6073                                              </td></tr>\n",
       "\t<tr><td>R                                                 </td><td>4708                                              </td></tr>\n",
       "\t<tr><td>SQL                                               </td><td>4261                                              </td></tr>\n",
       "\t<tr><td>Jupyter notebooks                                 </td><td>3206                                              </td></tr>\n",
       "\t<tr><td>TensorFlow                                        </td><td>2256                                              </td></tr>\n",
       "\t<tr><td>NA                                                </td><td>2198                                              </td></tr>\n",
       "\t<tr><td>Amazon Web services                               </td><td>1868                                              </td></tr>\n",
       "\t<tr><td>Unix shell / awk                                  </td><td>1854                                              </td></tr>\n",
       "\t<tr><td>Tableau                                           </td><td>1619                                              </td></tr>\n",
       "\t<tr><td>C/C++                                             </td><td>1528                                              </td></tr>\n",
       "\t<tr><td>NoSQL                                             </td><td>1527                                              </td></tr>\n",
       "\t<tr><td>MATLAB/Octave                                     </td><td>1461                                              </td></tr>\n",
       "\t<tr><td>Java                                              </td><td>1453                                              </td></tr>\n",
       "\t<tr><td>Hadoop/Hive/Pig                                   </td><td>1378                                              </td></tr>\n",
       "\t<tr><td>Spark / MLlib                                     </td><td>1359                                              </td></tr>\n",
       "\t<tr><td>Microsoft Excel Data Mining                       </td><td>1087                                              </td></tr>\n",
       "\t<tr><td>Other                                             </td><td> 917                                              </td></tr>\n",
       "\t<tr><td>SAS Base                                          </td><td> 738                                              </td></tr>\n",
       "\t<tr><td>Microsoft Azure Machine Learning                  </td><td> 589                                              </td></tr>\n",
       "\t<tr><td>Google Cloud Compute                              </td><td> 539                                              </td></tr>\n",
       "\t<tr><td>IBM SPSS Statistics                               </td><td> 472                                              </td></tr>\n",
       "\t<tr><td>Microsoft SQL Server Data Mining                  </td><td> 455                                              </td></tr>\n",
       "\t<tr><td>Cloudera                                          </td><td> 452                                              </td></tr>\n",
       "\t<tr><td>Amazon Machine Learning                           </td><td> 425                                              </td></tr>\n",
       "\t<tr><td>SAS Enterprise Miner                              </td><td> 405                                              </td></tr>\n",
       "\t<tr><td>Microsoft R Server (Formerly Revolution Analytics)</td><td> 381                                              </td></tr>\n",
       "\t<tr><td>QlikView                                          </td><td> 377                                              </td></tr>\n",
       "\t<tr><td>RapidMiner (free version)                         </td><td> 341                                              </td></tr>\n",
       "\t<tr><td>Perl                                              </td><td> 316                                              </td></tr>\n",
       "\t<tr><td>Mathematica                                       </td><td> 298                                              </td></tr>\n",
       "\t<tr><td>KNIME (free version)                              </td><td> 275                                              </td></tr>\n",
       "\t<tr><td>IBM SPSS Modeler                                  </td><td> 273                                              </td></tr>\n",
       "\t<tr><td>Impala                                            </td><td> 264                                              </td></tr>\n",
       "\t<tr><td>IBM Watson / Waton Analytics                      </td><td> 254                                              </td></tr>\n",
       "\t<tr><td>Oracle Data Mining/ Oracle R Enterprise           </td><td> 228                                              </td></tr>\n",
       "\t<tr><td>Julia                                             </td><td> 189                                              </td></tr>\n",
       "\t<tr><td>IBM Cognos                                        </td><td> 159                                              </td></tr>\n",
       "\t<tr><td>Stan                                              </td><td> 156                                              </td></tr>\n",
       "\t<tr><td>Minitab                                           </td><td> 150                                              </td></tr>\n",
       "\t<tr><td>Flume                                             </td><td> 144                                              </td></tr>\n",
       "\t<tr><td>TIBCO Spotfire                                    </td><td> 142                                              </td></tr>\n",
       "\t<tr><td>Orange                                            </td><td> 132                                              </td></tr>\n",
       "\t<tr><td>SAS JMP                                           </td><td> 121                                              </td></tr>\n",
       "\t<tr><td>SAP BusinessObjects Predictive Analytics          </td><td>  96                                              </td></tr>\n",
       "\t<tr><td>RapidMiner (commercial version)                   </td><td>  78                                              </td></tr>\n",
       "\t<tr><td>DataRobot                                         </td><td>  64                                              </td></tr>\n",
       "\t<tr><td>Statistica (Quest/Dell-formerly Statsoft)         </td><td>  45                                              </td></tr>\n",
       "\t<tr><td>KNIME (commercial version)                        </td><td>  37                                              </td></tr>\n",
       "\t<tr><td>Salfrod Systems CART/MARS/TreeNet/RF/SPM          </td><td>  36                                              </td></tr>\n",
       "\t<tr><td>Angoss                                            </td><td>  25                                              </td></tr>\n",
       "</tbody>\n",
       "</table>\n"
      ],
      "text/latex": [
       "\\begin{tabular}{r|ll}\n",
       " work\\_tools & n\\\\\n",
       "\\hline\n",
       "\t Python                                             & 6073                                              \\\\\n",
       "\t R                                                  & 4708                                              \\\\\n",
       "\t SQL                                                & 4261                                              \\\\\n",
       "\t Jupyter notebooks                                  & 3206                                              \\\\\n",
       "\t TensorFlow                                         & 2256                                              \\\\\n",
       "\t NA                                                 & 2198                                              \\\\\n",
       "\t Amazon Web services                                & 1868                                              \\\\\n",
       "\t Unix shell / awk                                   & 1854                                              \\\\\n",
       "\t Tableau                                            & 1619                                              \\\\\n",
       "\t C/C++                                              & 1528                                              \\\\\n",
       "\t NoSQL                                              & 1527                                              \\\\\n",
       "\t MATLAB/Octave                                      & 1461                                              \\\\\n",
       "\t Java                                               & 1453                                              \\\\\n",
       "\t Hadoop/Hive/Pig                                    & 1378                                              \\\\\n",
       "\t Spark / MLlib                                      & 1359                                              \\\\\n",
       "\t Microsoft Excel Data Mining                        & 1087                                              \\\\\n",
       "\t Other                                              &  917                                              \\\\\n",
       "\t SAS Base                                           &  738                                              \\\\\n",
       "\t Microsoft Azure Machine Learning                   &  589                                              \\\\\n",
       "\t Google Cloud Compute                               &  539                                              \\\\\n",
       "\t IBM SPSS Statistics                                &  472                                              \\\\\n",
       "\t Microsoft SQL Server Data Mining                   &  455                                              \\\\\n",
       "\t Cloudera                                           &  452                                              \\\\\n",
       "\t Amazon Machine Learning                            &  425                                              \\\\\n",
       "\t SAS Enterprise Miner                               &  405                                              \\\\\n",
       "\t Microsoft R Server (Formerly Revolution Analytics) &  381                                              \\\\\n",
       "\t QlikView                                           &  377                                              \\\\\n",
       "\t RapidMiner (free version)                          &  341                                              \\\\\n",
       "\t Perl                                               &  316                                              \\\\\n",
       "\t Mathematica                                        &  298                                              \\\\\n",
       "\t KNIME (free version)                               &  275                                              \\\\\n",
       "\t IBM SPSS Modeler                                   &  273                                              \\\\\n",
       "\t Impala                                             &  264                                              \\\\\n",
       "\t IBM Watson / Waton Analytics                       &  254                                              \\\\\n",
       "\t Oracle Data Mining/ Oracle R Enterprise            &  228                                              \\\\\n",
       "\t Julia                                              &  189                                              \\\\\n",
       "\t IBM Cognos                                         &  159                                              \\\\\n",
       "\t Stan                                               &  156                                              \\\\\n",
       "\t Minitab                                            &  150                                              \\\\\n",
       "\t Flume                                              &  144                                              \\\\\n",
       "\t TIBCO Spotfire                                     &  142                                              \\\\\n",
       "\t Orange                                             &  132                                              \\\\\n",
       "\t SAS JMP                                            &  121                                              \\\\\n",
       "\t SAP BusinessObjects Predictive Analytics           &   96                                              \\\\\n",
       "\t RapidMiner (commercial version)                    &   78                                              \\\\\n",
       "\t DataRobot                                          &   64                                              \\\\\n",
       "\t Statistica (Quest/Dell-formerly Statsoft)          &   45                                              \\\\\n",
       "\t KNIME (commercial version)                         &   37                                              \\\\\n",
       "\t Salfrod Systems CART/MARS/TreeNet/RF/SPM           &   36                                              \\\\\n",
       "\t Angoss                                             &   25                                              \\\\\n",
       "\\end{tabular}\n"
      ],
      "text/markdown": [
       "\n",
       "work_tools | n | \n",
       "|---|---|---|---|---|---|---|---|---|---|---|---|---|---|---|---|---|---|---|---|---|---|---|---|---|---|---|---|---|---|---|---|---|---|---|---|---|---|---|---|---|---|---|---|---|---|---|---|---|---|\n",
       "| Python                                             | 6073                                               | \n",
       "| R                                                  | 4708                                               | \n",
       "| SQL                                                | 4261                                               | \n",
       "| Jupyter notebooks                                  | 3206                                               | \n",
       "| TensorFlow                                         | 2256                                               | \n",
       "| NA                                                 | 2198                                               | \n",
       "| Amazon Web services                                | 1868                                               | \n",
       "| Unix shell / awk                                   | 1854                                               | \n",
       "| Tableau                                            | 1619                                               | \n",
       "| C/C++                                              | 1528                                               | \n",
       "| NoSQL                                              | 1527                                               | \n",
       "| MATLAB/Octave                                      | 1461                                               | \n",
       "| Java                                               | 1453                                               | \n",
       "| Hadoop/Hive/Pig                                    | 1378                                               | \n",
       "| Spark / MLlib                                      | 1359                                               | \n",
       "| Microsoft Excel Data Mining                        | 1087                                               | \n",
       "| Other                                              |  917                                               | \n",
       "| SAS Base                                           |  738                                               | \n",
       "| Microsoft Azure Machine Learning                   |  589                                               | \n",
       "| Google Cloud Compute                               |  539                                               | \n",
       "| IBM SPSS Statistics                                |  472                                               | \n",
       "| Microsoft SQL Server Data Mining                   |  455                                               | \n",
       "| Cloudera                                           |  452                                               | \n",
       "| Amazon Machine Learning                            |  425                                               | \n",
       "| SAS Enterprise Miner                               |  405                                               | \n",
       "| Microsoft R Server (Formerly Revolution Analytics) |  381                                               | \n",
       "| QlikView                                           |  377                                               | \n",
       "| RapidMiner (free version)                          |  341                                               | \n",
       "| Perl                                               |  316                                               | \n",
       "| Mathematica                                        |  298                                               | \n",
       "| KNIME (free version)                               |  275                                               | \n",
       "| IBM SPSS Modeler                                   |  273                                               | \n",
       "| Impala                                             |  264                                               | \n",
       "| IBM Watson / Waton Analytics                       |  254                                               | \n",
       "| Oracle Data Mining/ Oracle R Enterprise            |  228                                               | \n",
       "| Julia                                              |  189                                               | \n",
       "| IBM Cognos                                         |  159                                               | \n",
       "| Stan                                               |  156                                               | \n",
       "| Minitab                                            |  150                                               | \n",
       "| Flume                                              |  144                                               | \n",
       "| TIBCO Spotfire                                     |  142                                               | \n",
       "| Orange                                             |  132                                               | \n",
       "| SAS JMP                                            |  121                                               | \n",
       "| SAP BusinessObjects Predictive Analytics           |   96                                               | \n",
       "| RapidMiner (commercial version)                    |   78                                               | \n",
       "| DataRobot                                          |   64                                               | \n",
       "| Statistica (Quest/Dell-formerly Statsoft)          |   45                                               | \n",
       "| KNIME (commercial version)                         |   37                                               | \n",
       "| Salfrod Systems CART/MARS/TreeNet/RF/SPM           |   36                                               | \n",
       "| Angoss                                             |   25                                               | \n",
       "\n",
       "\n"
      ],
      "text/plain": [
       "   work_tools                                         n   \n",
       "1  Python                                             6073\n",
       "2  R                                                  4708\n",
       "3  SQL                                                4261\n",
       "4  Jupyter notebooks                                  3206\n",
       "5  TensorFlow                                         2256\n",
       "6  NA                                                 2198\n",
       "7  Amazon Web services                                1868\n",
       "8  Unix shell / awk                                   1854\n",
       "9  Tableau                                            1619\n",
       "10 C/C++                                              1528\n",
       "11 NoSQL                                              1527\n",
       "12 MATLAB/Octave                                      1461\n",
       "13 Java                                               1453\n",
       "14 Hadoop/Hive/Pig                                    1378\n",
       "15 Spark / MLlib                                      1359\n",
       "16 Microsoft Excel Data Mining                        1087\n",
       "17 Other                                               917\n",
       "18 SAS Base                                            738\n",
       "19 Microsoft Azure Machine Learning                    589\n",
       "20 Google Cloud Compute                                539\n",
       "21 IBM SPSS Statistics                                 472\n",
       "22 Microsoft SQL Server Data Mining                    455\n",
       "23 Cloudera                                            452\n",
       "24 Amazon Machine Learning                             425\n",
       "25 SAS Enterprise Miner                                405\n",
       "26 Microsoft R Server (Formerly Revolution Analytics)  381\n",
       "27 QlikView                                            377\n",
       "28 RapidMiner (free version)                           341\n",
       "29 Perl                                                316\n",
       "30 Mathematica                                         298\n",
       "31 KNIME (free version)                                275\n",
       "32 IBM SPSS Modeler                                    273\n",
       "33 Impala                                              264\n",
       "34 IBM Watson / Waton Analytics                        254\n",
       "35 Oracle Data Mining/ Oracle R Enterprise             228\n",
       "36 Julia                                               189\n",
       "37 IBM Cognos                                          159\n",
       "38 Stan                                                156\n",
       "39 Minitab                                             150\n",
       "40 Flume                                               144\n",
       "41 TIBCO Spotfire                                      142\n",
       "42 Orange                                              132\n",
       "43 SAS JMP                                             121\n",
       "44 SAP BusinessObjects Predictive Analytics             96\n",
       "45 RapidMiner (commercial version)                      78\n",
       "46 DataRobot                                            64\n",
       "47 Statistica (Quest/Dell-formerly Statsoft)            45\n",
       "48 KNIME (commercial version)                           37\n",
       "49 Salfrod Systems CART/MARS/TreeNet/RF/SPM             36\n",
       "50 Angoss                                               25"
      ]
     },
     "metadata": {},
     "output_type": "display_data"
    },
    {
     "data": {
      "text/html": [
       "<table>\n",
       "<thead><tr><th scope=col>work_tools</th><th scope=col>n</th></tr></thead>\n",
       "<tbody>\n",
       "\t<tr><td>Python           </td><td>6073             </td></tr>\n",
       "\t<tr><td>R                </td><td>4708             </td></tr>\n",
       "\t<tr><td>SQL              </td><td>4261             </td></tr>\n",
       "\t<tr><td>Jupyter notebooks</td><td>3206             </td></tr>\n",
       "\t<tr><td>TensorFlow       </td><td>2256             </td></tr>\n",
       "\t<tr><td>NA               </td><td>2198             </td></tr>\n",
       "</tbody>\n",
       "</table>\n"
      ],
      "text/latex": [
       "\\begin{tabular}{r|ll}\n",
       " work\\_tools & n\\\\\n",
       "\\hline\n",
       "\t Python            & 6073             \\\\\n",
       "\t R                 & 4708             \\\\\n",
       "\t SQL               & 4261             \\\\\n",
       "\t Jupyter notebooks & 3206             \\\\\n",
       "\t TensorFlow        & 2256             \\\\\n",
       "\t NA                & 2198             \\\\\n",
       "\\end{tabular}\n"
      ],
      "text/markdown": [
       "\n",
       "work_tools | n | \n",
       "|---|---|---|---|---|---|\n",
       "| Python            | 6073              | \n",
       "| R                 | 4708              | \n",
       "| SQL               | 4261              | \n",
       "| Jupyter notebooks | 3206              | \n",
       "| TensorFlow        | 2256              | \n",
       "| NA                | 2198              | \n",
       "\n",
       "\n"
      ],
      "text/plain": [
       "  work_tools        n   \n",
       "1 Python            6073\n",
       "2 R                 4708\n",
       "3 SQL               4261\n",
       "4 Jupyter notebooks 3206\n",
       "5 TensorFlow        2256\n",
       "6 NA                2198"
      ]
     },
     "metadata": {},
     "output_type": "display_data"
    }
   ],
   "source": [
    "# Creating a new data frame\n",
    "tool_count <- tools\n",
    "\n",
    "# Grouping the data by work_tools, calculate the number of responses in each group\n",
    "tool_count <- tools %>%\n",
    "    group_by(work_tools) %>%\n",
    "    summarise(n = n()) %>%\n",
    "    arrange(desc(n))\n",
    "\n",
    "# Sorting tool_count so that the most popular tools are at the top\n",
    "tool_count %>% arrange(desc(n))\n",
    "\n",
    "# Printing the first 6 results\n",
    "head(tool_count, 6)"
   ]
  },
  {
   "cell_type": "markdown",
   "metadata": {
    "dc": {
     "key": "24"
    },
    "deletable": false,
    "editable": false,
    "run_control": {
     "frozen": true
    },
    "tags": [
     "context"
    ]
   },
   "source": [
    "## 4. Plotting the most popular tools\n",
    "<p>Let's see how your favorite tools stack up against the rest. </p>"
   ]
  },
  {
   "cell_type": "code",
   "execution_count": 42,
   "metadata": {
    "dc": {
     "key": "24"
    },
    "tags": [
     "sample_code"
    ]
   },
   "outputs": [
    {
     "data": {},
     "metadata": {},
     "output_type": "display_data"
    },
    {
     "data": {
      "image/png": "[encoded data removed]",
      "text/plain": [
       "plot without title"
      ]
     },
     "metadata": {},
     "output_type": "display_data"
    }
   ],
   "source": [
    "# Creating a bar chart of the work_tools column. \n",
    "# Arranging the bars so that the tallest are on the far right\n",
    "ggplot(tool_count,aes(x = work_tools, y = n)) + \n",
    "    geom_bar(stat = \"identity\") +\n",
    "\n",
    "# Rotating the bar labels 90 degrees\n",
    "    theme(axis.text.x = \n",
    "             element_text(angle=90, vjust=0.2, hjust=1))"
   ]
  },
  {
   "cell_type": "markdown",
   "metadata": {
    "dc": {
     "key": "31"
    },
    "deletable": false,
    "editable": false,
    "run_control": {
     "frozen": true
    },
    "tags": [
     "context"
    ]
   },
   "source": [
    "## 5. The R vs Python debate\n",
    "<p>Within the field of data science, there is a lot of debate among professionals about whether R or Python should reign supreme. You can see from our last figure that R and Python are the two most commonly used languages, but it's possible that many respondents use both R and Python. Let's take a look at how many people use R, Python, and both tools.</p>"
   ]
  },
  {
   "cell_type": "code",
   "execution_count": 44,
   "metadata": {
    "dc": {
     "key": "31"
    },
    "tags": [
     "sample_code"
    ]
   },
   "outputs": [
    {
     "data": {
      "text/html": [
       "<table>\n",
       "<thead><tr><th scope=col>Respondent</th><th scope=col>WorkToolsSelect</th><th scope=col>LanguageRecommendationSelect</th><th scope=col>EmployerIndustry</th><th scope=col>WorkAlgorithmsSelect</th><th scope=col>language_preference</th></tr></thead>\n",
       "<tbody>\n",
       "\t<tr><td>1                                                                                                                                                                                                                  </td><td>Amazon Web services,Oracle Data Mining/ Oracle R Enterprise,Perl                                                                                                                                                   </td><td>F#                                                                                                                                                                                                                 </td><td>Internet-based                                                                                                                                                                                                     </td><td>Neural Networks,Random Forests,RNNs                                                                                                                                                                                </td><td>R                                                                                                                                                                                                                  </td></tr>\n",
       "\t<tr><td>2                                                                                                                                                                                                                  </td><td>Amazon Machine Learning,Amazon Web services,Cloudera,Hadoop/Hive/Pig,Impala,Java,Mathematica,MATLAB/Octave,Microsoft Excel Data Mining,Microsoft SQL Server Data Mining,NoSQL,Python,R,SAS Base,SAS JMP,SQL,Tableau</td><td>Python                                                                                                                                                                                                             </td><td>Mix of fields                                                                                                                                                                                                      </td><td>Bayesian Techniques,Decision Trees,Random Forests,Regression/Logistic Regression                                                                                                                                   </td><td>both                                                                                                                                                                                                               </td></tr>\n",
       "\t<tr><td>3                                                                                                                                                                                                                  </td><td>C/C++,Jupyter notebooks,MATLAB/Octave,Python,R,TensorFlow                                                                                                                                                          </td><td>Python                                                                                                                                                                                                             </td><td>Technology                                                                                                                                                                                                         </td><td>Bayesian Techniques,CNNs,Ensemble Methods,Neural Networks,Regression/Logistic Regression,SVMs                                                                                                                      </td><td>both                                                                                                                                                                                                               </td></tr>\n",
       "\t<tr><td>4                                                                                                                                                                                                                  </td><td>Jupyter notebooks,Python,SQL,TensorFlow                                                                                                                                                                            </td><td>Python                                                                                                                                                                                                             </td><td>Academic                                                                                                                                                                                                           </td><td>Bayesian Techniques,CNNs,Decision Trees,Gradient Boosted Machines,Neural Networks,Random Forests,Regression/Logistic Regression                                                                                    </td><td>Python                                                                                                                                                                                                             </td></tr>\n",
       "\t<tr><td>5                                                                                                                                                                                                                  </td><td>C/C++,Cloudera,Hadoop/Hive/Pig,Java,NoSQL,R,Unix shell / awk                                                                                                                                                       </td><td>R                                                                                                                                                                                                                  </td><td>Government                                                                                                                                                                                                         </td><td>NA                                                                                                                                                                                                                 </td><td>R                                                                                                                                                                                                                  </td></tr>\n",
       "\t<tr><td>6                                                                                                                                                                                                                  </td><td>SQL                                                                                                                                                                                                                </td><td>Python                                                                                                                                                                                                             </td><td>Non-profit                                                                                                                                                                                                         </td><td>NA                                                                                                                                                                                                                 </td><td>neither                                                                                                                                                                                                            </td></tr>\n",
       "</tbody>\n",
       "</table>\n"
      ],
      "text/latex": [
       "\\begin{tabular}{r|llllll}\n",
       " Respondent & WorkToolsSelect & LanguageRecommendationSelect & EmployerIndustry & WorkAlgorithmsSelect & language\\_preference\\\\\n",
       "\\hline\n",
       "\t 1                                                                                                                                                                                                                   & Amazon Web services,Oracle Data Mining/ Oracle R Enterprise,Perl                                                                                                                                                    & F\\#                                                                                                                                                                                                                & Internet-based                                                                                                                                                                                                      & Neural Networks,Random Forests,RNNs                                                                                                                                                                                 & R                                                                                                                                                                                                                  \\\\\n",
       "\t 2                                                                                                                                                                                                                   & Amazon Machine Learning,Amazon Web services,Cloudera,Hadoop/Hive/Pig,Impala,Java,Mathematica,MATLAB/Octave,Microsoft Excel Data Mining,Microsoft SQL Server Data Mining,NoSQL,Python,R,SAS Base,SAS JMP,SQL,Tableau & Python                                                                                                                                                                                                              & Mix of fields                                                                                                                                                                                                       & Bayesian Techniques,Decision Trees,Random Forests,Regression/Logistic Regression                                                                                                                                    & both                                                                                                                                                                                                               \\\\\n",
       "\t 3                                                                                                                                                                                                                   & C/C++,Jupyter notebooks,MATLAB/Octave,Python,R,TensorFlow                                                                                                                                                           & Python                                                                                                                                                                                                              & Technology                                                                                                                                                                                                          & Bayesian Techniques,CNNs,Ensemble Methods,Neural Networks,Regression/Logistic Regression,SVMs                                                                                                                       & both                                                                                                                                                                                                               \\\\\n",
       "\t 4                                                                                                                                                                                                                   & Jupyter notebooks,Python,SQL,TensorFlow                                                                                                                                                                             & Python                                                                                                                                                                                                              & Academic                                                                                                                                                                                                            & Bayesian Techniques,CNNs,Decision Trees,Gradient Boosted Machines,Neural Networks,Random Forests,Regression/Logistic Regression                                                                                     & Python                                                                                                                                                                                                             \\\\\n",
       "\t 5                                                                                                                                                                                                                   & C/C++,Cloudera,Hadoop/Hive/Pig,Java,NoSQL,R,Unix shell / awk                                                                                                                                                        & R                                                                                                                                                                                                                   & Government                                                                                                                                                                                                          & NA                                                                                                                                                                                                                  & R                                                                                                                                                                                                                  \\\\\n",
       "\t 6                                                                                                                                                                                                                   & SQL                                                                                                                                                                                                                 & Python                                                                                                                                                                                                              & Non-profit                                                                                                                                                                                                          & NA                                                                                                                                                                                                                  & neither                                                                                                                                                                                                            \\\\\n",
       "\\end{tabular}\n"
      ],
      "text/markdown": [
       "\n",
       "Respondent | WorkToolsSelect | LanguageRecommendationSelect | EmployerIndustry | WorkAlgorithmsSelect | language_preference | \n",
       "|---|---|---|---|---|---|\n",
       "| 1                                                                                                                                                                                                                   | Amazon Web services,Oracle Data Mining/ Oracle R Enterprise,Perl                                                                                                                                                    | F#                                                                                                                                                                                                                  | Internet-based                                                                                                                                                                                                      | Neural Networks,Random Forests,RNNs                                                                                                                                                                                 | R                                                                                                                                                                                                                   | \n",
       "| 2                                                                                                                                                                                                                   | Amazon Machine Learning,Amazon Web services,Cloudera,Hadoop/Hive/Pig,Impala,Java,Mathematica,MATLAB/Octave,Microsoft Excel Data Mining,Microsoft SQL Server Data Mining,NoSQL,Python,R,SAS Base,SAS JMP,SQL,Tableau | Python                                                                                                                                                                                                              | Mix of fields                                                                                                                                                                                                       | Bayesian Techniques,Decision Trees,Random Forests,Regression/Logistic Regression                                                                                                                                    | both                                                                                                                                                                                                                | \n",
       "| 3                                                                                                                                                                                                                   | C/C++,Jupyter notebooks,MATLAB/Octave,Python,R,TensorFlow                                                                                                                                                           | Python                                                                                                                                                                                                              | Technology                                                                                                                                                                                                          | Bayesian Techniques,CNNs,Ensemble Methods,Neural Networks,Regression/Logistic Regression,SVMs                                                                                                                       | both                                                                                                                                                                                                                | \n",
       "| 4                                                                                                                                                                                                                   | Jupyter notebooks,Python,SQL,TensorFlow                                                                                                                                                                             | Python                                                                                                                                                                                                              | Academic                                                                                                                                                                                                            | Bayesian Techniques,CNNs,Decision Trees,Gradient Boosted Machines,Neural Networks,Random Forests,Regression/Logistic Regression                                                                                     | Python                                                                                                                                                                                                              | \n",
       "| 5                                                                                                                                                                                                                   | C/C++,Cloudera,Hadoop/Hive/Pig,Java,NoSQL,R,Unix shell / awk                                                                                                                                                        | R                                                                                                                                                                                                                   | Government                                                                                                                                                                                                          | NA                                                                                                                                                                                                                  | R                                                                                                                                                                                                                   | \n",
       "| 6                                                                                                                                                                                                                   | SQL                                                                                                                                                                                                                 | Python                                                                                                                                                                                                              | Non-profit                                                                                                                                                                                                          | NA                                                                                                                                                                                                                  | neither                                                                                                                                                                                                             | \n",
       "\n",
       "\n"
      ],
      "text/plain": [
       "  Respondent\n",
       "1 1         \n",
       "2 2         \n",
       "3 3         \n",
       "4 4         \n",
       "5 5         \n",
       "6 6         \n",
       "  WorkToolsSelect                                                                                                                                                                                                    \n",
       "1 Amazon Web services,Oracle Data Mining/ Oracle R Enterprise,Perl                                                                                                                                                   \n",
       "2 Amazon Machine Learning,Amazon Web services,Cloudera,Hadoop/Hive/Pig,Impala,Java,Mathematica,MATLAB/Octave,Microsoft Excel Data Mining,Microsoft SQL Server Data Mining,NoSQL,Python,R,SAS Base,SAS JMP,SQL,Tableau\n",
       "3 C/C++,Jupyter notebooks,MATLAB/Octave,Python,R,TensorFlow                                                                                                                                                          \n",
       "4 Jupyter notebooks,Python,SQL,TensorFlow                                                                                                                                                                            \n",
       "5 C/C++,Cloudera,Hadoop/Hive/Pig,Java,NoSQL,R,Unix shell / awk                                                                                                                                                       \n",
       "6 SQL                                                                                                                                                                                                                \n",
       "  LanguageRecommendationSelect EmployerIndustry\n",
       "1 F#                           Internet-based  \n",
       "2 Python                       Mix of fields   \n",
       "3 Python                       Technology      \n",
       "4 Python                       Academic        \n",
       "5 R                            Government      \n",
       "6 Python                       Non-profit      \n",
       "  WorkAlgorithmsSelect                                                                                                           \n",
       "1 Neural Networks,Random Forests,RNNs                                                                                            \n",
       "2 Bayesian Techniques,Decision Trees,Random Forests,Regression/Logistic Regression                                               \n",
       "3 Bayesian Techniques,CNNs,Ensemble Methods,Neural Networks,Regression/Logistic Regression,SVMs                                  \n",
       "4 Bayesian Techniques,CNNs,Decision Trees,Gradient Boosted Machines,Neural Networks,Random Forests,Regression/Logistic Regression\n",
       "5 NA                                                                                                                             \n",
       "6 NA                                                                                                                             \n",
       "  language_preference\n",
       "1 R                  \n",
       "2 both               \n",
       "3 both               \n",
       "4 Python             \n",
       "5 R                  \n",
       "6 neither            "
      ]
     },
     "metadata": {},
     "output_type": "display_data"
    }
   ],
   "source": [
    "# Creating a new data frame called debate_tools\n",
    "debate_tools <- responses\n",
    "\n",
    "# Creating a new column called language preference, based on the conditions specified in the Instructions\n",
    "debate_tools <- debate_tools  %>% \n",
    "       mutate(language_preference = case_when(\n",
    "       grepl(\"R\", WorkToolsSelect) & ! grepl(\"Python\", WorkToolsSelect) ~ \"R\",\n",
    "       grepl(\"Python\", WorkToolsSelect) & ! grepl(\"R\", WorkToolsSelect) ~ \"Python\",\n",
    "       grepl(\"R\", WorkToolsSelect) & grepl(\"Python\", WorkToolsSelect) ~ \"both\",\n",
    "       ! grepl(\"R\", WorkToolsSelect) & ! grepl(\"Python\", WorkToolsSelect) ~ \"neither\")\n",
    "         )\n",
    "\n",
    "# Printing the first 6 rows\n",
    "head(debate_tools, 6) "
   ]
  },
  {
   "cell_type": "markdown",
   "metadata": {
    "dc": {
     "key": "38"
    },
    "deletable": false,
    "editable": false,
    "run_control": {
     "frozen": true
    },
    "tags": [
     "context"
    ]
   },
   "source": [
    "## 6. Plotting R vs Python users\n",
    "<p>Now we just need to take a closer look at how many respondents use R, Python, and both!</p>"
   ]
  },
  {
   "cell_type": "code",
   "execution_count": 46,
   "metadata": {
    "dc": {
     "key": "38"
    },
    "tags": [
     "sample_code"
    ]
   },
   "outputs": [
    {
     "data": {},
     "metadata": {},
     "output_type": "display_data"
    },
    {
     "data": {
      "image/png": "[encoded data removed]",
      "text/plain": [
       "plot without title"
      ]
     },
     "metadata": {},
     "output_type": "display_data"
    }
   ],
   "source": [
    "# Creating a new data frame\n",
    "debate_plot <- debate_tools\n",
    "\n",
    "# Grouping by language preference and calculate number of responses\n",
    "debate_plot <- debate_plot  %>% \n",
    "   group_by(language_preference )  %>% \n",
    "    summarise(n = n())  %>% \n",
    "\n",
    "# Removing the row for users of \"neither\"\n",
    "    filter(language_preference != \"neither\")\n",
    "\n",
    "# Creating a bar chart\n",
    "ggplot(debate_plot, aes(x = language_preference, y = n)) + \n",
    "geom_bar(stat = \"identity\")"
   ]
  },
  {
   "cell_type": "markdown",
   "metadata": {
    "dc": {
     "key": "45"
    },
    "deletable": false,
    "editable": false,
    "run_control": {
     "frozen": true
    },
    "tags": [
     "context"
    ]
   },
   "source": [
    "## 7. Language recommendations\n",
    "<p>It looks like the largest group of professionals program in both Python and R. But what happens when they are asked which language they recommend to new learners? Do R lovers always recommend R? </p>"
   ]
  },
  {
   "cell_type": "code",
   "execution_count": 48,
   "metadata": {
    "collapsed": true,
    "dc": {
     "key": "45"
    },
    "tags": [
     "sample_code"
    ]
   },
   "outputs": [],
   "source": [
    "# Creating a new data frame\n",
    "recommendations <- debate_tools\n",
    "\n",
    "# Grouping by language_preference and then LanguageRecommendationSelect\n",
    "recommendations <- recommendations  %>% \n",
    "    group_by(language_preference, LanguageRecommendationSelect)  %>% \n",
    "    summarize(n = n()) %>%\n",
    "\n",
    "# Removing empty responses and include the top recommendations\n",
    "    filter(LanguageRecommendationSelect != is.na(LanguageRecommendationSelect)) %>% \n",
    "    arrange(desc(LanguageRecommendationSelect)) %>% \n",
    "    mutate(count = row_number()) %>% \n",
    "    filter(count <= 4)"
   ]
  },
  {
   "cell_type": "markdown",
   "metadata": {
    "dc": {
     "key": "52"
    },
    "deletable": false,
    "editable": false,
    "run_control": {
     "frozen": true
    },
    "tags": [
     "context"
    ]
   },
   "source": [
    "## 8. The most recommended language by the language used\n",
    "<p>Just one thing left. Let's graphically determine which languages are most recommended based on the language that a person uses.</p>"
   ]
  },
  {
   "cell_type": "code",
   "execution_count": 50,
   "metadata": {
    "dc": {
     "key": "52"
    },
    "tags": [
     "sample_code"
    ]
   },
   "outputs": [
    {
     "data": {},
     "metadata": {},
     "output_type": "display_data"
    },
    {
     "data": {
      "image/png": "[encoded data removed]",
      "text/plain": [
       "plot without title"
      ]
     },
     "metadata": {},
     "output_type": "display_data"
    }
   ],
   "source": [
    "# Creating a faceted bar plot\n",
    "ggplot(recommendations, aes(x = LanguageRecommendationSelect, y = n))+\n",
    "geom_bar(stat='identity')+\n",
    "facet_wrap(~language_preference)"
   ]
  },
  {
   "cell_type": "markdown",
   "metadata": {
    "dc": {
     "key": "59"
    },
    "deletable": false,
    "editable": false,
    "run_control": {
     "frozen": true
    },
    "tags": [
     "context"
    ]
   },
   "source": [
    "## 9. The moral of the story\n",
    "<p>So we've made it to the end. We've found that Python is the most popular language used among Kaggle data scientists, but R users aren't far behind. And while Python users may highly recommend that new learners learn Python, would R users find the following statement <code>TRUE</code> or <code>FALSE</code>? </p>"
   ]
  },
  {
   "cell_type": "code",
   "execution_count": 52,
   "metadata": {
    "dc": {
     "key": "59"
    },
    "tags": [
     "sample_code"
    ]
   },
   "outputs": [
    {
     "ename": "ERROR",
     "evalue": "Error in eval(expr, envir, enclos): object '....' not found\n",
     "output_type": "error",
     "traceback": [
      "Error in eval(expr, envir, enclos): object '....' not found\nTraceback:\n"
     ]
    }
   ],
   "source": [
    "# Would R users find this statement TRUE or FALSE?\n",
    "R_is_number_one = TRUE"
   ]
  }
 ],
 "metadata": {
  "kernelspec": {
   "display_name": "R 3.3.2",
   "language": "R",
   "name": "ir33"
  },
  "language_info": {
   "codemirror_mode": "r",
   "file_extension": ".r",
   "mimetype": "text/x-r-source",
   "name": "R",
   "pygments_lexer": "r",
   "version": "3.5.1"
  }
 },
 "nbformat": 4,
 "nbformat_minor": 2
}
